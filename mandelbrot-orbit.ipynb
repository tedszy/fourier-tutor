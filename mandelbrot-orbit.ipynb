{
 "cells": [
  {
   "cell_type": "markdown",
   "id": "22f05153",
   "metadata": {},
   "source": [
    "# Mandelbrot orbits\n",
    "\n",
    "\n",
    "- we will write software to display orbits."
   ]
  },
  {
   "cell_type": "code",
   "execution_count": 67,
   "id": "140fe8de",
   "metadata": {},
   "outputs": [],
   "source": [
    "# load some libraries and library function.\n",
    "\n",
    "import numpy as np\n",
    "import matplotlib.pyplot as plt\n",
    "\n",
    "# Jupyter \"magic command\".\n",
    "%matplotlib inline\n",
    "\n",
    "# set up some properties for all figures.\n",
    "plt.rcParams['figure.figsize'] = [3, 3]\n",
    "plt.rcParams['figure.dpi'] = 200"
   ]
  },
  {
   "cell_type": "code",
   "execution_count": 132,
   "id": "027f4307",
   "metadata": {},
   "outputs": [],
   "source": [
    "# set up the picture (axes).\n",
    "# I want it to have a certain square size. \n",
    "# It needs to fit the unit circle and the mandelbrot circle.\n",
    "# A bit bigger because I want to see the points that go outside\n",
    "\n",
    "# alpha is transparency.\n",
    "\n",
    "def axis_setup(ax):\n",
    "    picture_limit = 4\n",
    "    ax.set_aspect('equal')\n",
    "    ax.axhline(y=0, color='gray', alpha=0.3)\n",
    "    ax.axvline(x=0, color='gray', alpha=0.3)\n",
    "    ax.axis('off') # turn off x-y axis numbers, ticks...\n",
    "    # set dimensions.\n",
    "    ax.set_xlim(-picture_limit, picture_limit)\n",
    "    ax.set_ylim(-picture_limit, picture_limit)\n",
    "    \n",
    "def plot_unit_circle(ax):\n",
    "    # from 0 to 2*pi\n",
    "    theta = np.linspace(0, 2*np.pi, 100)\n",
    "    xs = np.cos(theta)\n",
    "    ys = np.sin(theta)\n",
    "    ax.plot(xs, ys, lw=1, color='green', alpha=0.4)\n",
    "    \n",
    "def plot_mandelbrot_circle(ax):\n",
    "    # from 0 to 2*pi\n",
    "    theta = np.linspace(0, 2*np.pi, 100)\n",
    "    xs = 2*np.cos(theta)\n",
    "    ys = 2*np.sin(theta)\n",
    "    ax.plot(xs, ys, lw=1, color='red', alpha=0.4)\n",
    "\n",
    "# Break tasks into many small functions.   \n",
    "# z_2 = z_1**2 + c.\n",
    "\n",
    "def compute_orbit(N, c):\n",
    "    orbit = []\n",
    "    z = 0+0j               # All orbits begin here.\n",
    "    for _ in range(N):\n",
    "        orbit.append(z)\n",
    "        z = z**2 + c       # new z is old z **2 + c\n",
    "    return orbit\n",
    "    \n",
    "# Plot the orbit onto ax.    \n",
    "\n",
    "# Draw the points of the orbit onto the axes ax.\n",
    "# Python cannot (afaik) plot complex numbers directly.\n",
    "# What we have to do is separate into real and imaginary parts\n",
    "# and plot those. It expects (x,y) not z. \n",
    "def plot_orbit(ax, orbit):\n",
    "    xs = np.real(orbit)\n",
    "    ys = np.imag(orbit)\n",
    "    ax.scatter(xs, ys, s=2, color='black', alpha=0.6)\n",
    "    \n",
    "    # Create list of labels. Attach a label 0, 1, 2...\n",
    "    # to each orbit point.\n",
    "    # jiggle them a bit so the labels are not on top of \n",
    "    # the orbit points.\n",
    "    for i,label in enumerate([str(u) for u in range(len(orbit))]):\n",
    "        z = orbit[i]\n",
    "        \n",
    "        # jiggling.\n",
    "        if np.abs(z) == 0:\n",
    "            z += 0.15\n",
    "        else:\n",
    "            z += 0.25 * z/np.abs(z)\n",
    "        \n",
    "        x = np.real(z)\n",
    "        y = np.imag(z)\n",
    "        # ax.annotate(label, (x, y), fontsize=5, ha='center', va='center')\n",
    "    "
   ]
  },
  {
   "cell_type": "code",
   "execution_count": 133,
   "id": "2224fe24",
   "metadata": {},
   "outputs": [
    {
     "data": {
      "image/png": "[encoded data removed]",
      "text/plain": [
       "<Figure size 600x600 with 1 Axes>"
      ]
     },
     "metadata": {
      "needs_background": "light"
     },
     "output_type": "display_data"
    }
   ],
   "source": [
    "orbit = compute_orbit(29, (1-1j)/2.8)\n",
    "\n",
    "fig, ax = plt.subplots() \n",
    "axis_setup(ax)\n",
    "plot_unit_circle(ax)\n",
    "plot_mandelbrot_circle(ax)\n",
    "plot_orbit(ax, orbit)"
   ]
  },
  {
   "cell_type": "code",
   "execution_count": 73,
   "id": "491e24d0",
   "metadata": {},
   "outputs": [],
   "source": [
    "# list. Data structure.\n",
    "\n",
    "orbit = []\n",
    "orbit.append(0+0j)\n",
    "orbit.append(3-2j)\n"
   ]
  },
  {
   "cell_type": "code",
   "execution_count": 75,
   "id": "99a582b6",
   "metadata": {},
   "outputs": [],
   "source": [
    "for _ in range(10):\n",
    "    orbit.append(88)"
   ]
  },
  {
   "cell_type": "code",
   "execution_count": 76,
   "id": "5e42709d",
   "metadata": {},
   "outputs": [
    {
     "data": {
      "text/plain": [
       "[0j, (3-2j), 88, 88, 88, 88, 88, 88, 88, 88, 88, 88]"
      ]
     },
     "execution_count": 76,
     "metadata": {},
     "output_type": "execute_result"
    }
   ],
   "source": [
    "orbit"
   ]
  },
  {
   "cell_type": "code",
   "execution_count": 80,
   "id": "11baa9cd",
   "metadata": {},
   "outputs": [
    {
     "data": {
      "text/plain": [
       "array([ 0.        ,  0.33333333,  0.33333333,  0.13580247, -0.14342326,\n",
       "        0.0788424 ,  0.3060996 ,  0.29586117,  0.11278087, -0.0918892 ])"
      ]
     },
     "execution_count": 80,
     "metadata": {},
     "output_type": "execute_result"
    }
   ],
   "source": [
    "np.real(compute_orbit(10, (1-1j)/3))"
   ]
  },
  {
   "cell_type": "code",
   "execution_count": null,
   "id": "757d30e4",
   "metadata": {},
   "outputs": [],
   "source": []
  }
 ],
 "metadata": {
  "kernelspec": {
   "display_name": "Python 3",
   "language": "python",
   "name": "python3"
  },
  "language_info": {
   "codemirror_mode": {
    "name": "ipython",
    "version": 3
   },
   "file_extension": ".py",
   "mimetype": "text/x-python",
   "name": "python",
   "nbconvert_exporter": "python",
   "pygments_lexer": "ipython3",
   "version": "3.8.8"
  }
 },
 "nbformat": 4,
 "nbformat_minor": 5
}
